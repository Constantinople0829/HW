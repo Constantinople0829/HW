{
 "cells": [
  {
   "cell_type": "markdown",
   "id": "67c2cb87",
   "metadata": {},
   "source": [
    "# <center>Lab Assignment 3<center>"
   ]
  },
  {
   "cell_type": "markdown",
   "id": "14ff761b",
   "metadata": {},
   "source": [
    "## <center>Yihan Li, UCLA MQE Class 2025<center>"
   ]
  },
  {
   "cell_type": "code",
   "execution_count": null,
   "id": "2ab13152",
   "metadata": {},
   "outputs": [],
   "source": [
    "import pandas as pd\n",
    "import matplotlib.pyplot as plt\n",
    "import numpy as np\n",
    "import matplotlib.pyplot as plt\n",
    "from sklearn.model_selection import train_test_split\n",
    "from sklearn.linear_model import LinearRegression\n",
    "from sklearn.metrics import mean_squared_error\n",
    "import pandas as pd\n",
    "import statsmodels.api as sm\n",
    "from sklearn.model_selection import LeaveOneOut\n",
    "from sklearn.metrics import accuracy_score, classification_report\n",
    "from sklearn.preprocessing import PolynomialFeatures"
   ]
  },
  {
   "cell_type": "markdown",
   "id": "a98f5070",
   "metadata": {},
   "source": [
    "# 0.) Clean the Apple Data to get a quarterly series of EPS."
   ]
  },
  {
   "cell_type": "code",
   "execution_count": 25,
   "id": "9a846873",
   "metadata": {},
   "outputs": [
    {
     "name": "stdout",
     "output_type": "stream",
     "text": [
      "/Users/richard/Desktop\n"
     ]
    }
   ],
   "source": [
    "import os\n",
    "notebook_path = \"your_notebook_file.ipynb\"  # Replace with the actual notebook file path\n",
    "notebook_dir = os.path.dirname(os.path.abspath(notebook_path))\n",
    "print(notebook_dir)"
   ]
  },
  {
   "cell_type": "code",
   "execution_count": 26,
   "id": "c7f8e883",
   "metadata": {},
   "outputs": [],
   "source": [
    "y = pd.read_csv(\"AAPL_quarterly_financials.csv\")"
   ]
  },
  {
   "cell_type": "code",
   "execution_count": 27,
   "id": "65cef6cf",
   "metadata": {},
   "outputs": [],
   "source": [
    "y.index = y.name"
   ]
  },
  {
   "cell_type": "code",
   "execution_count": 28,
   "id": "af186a85",
   "metadata": {},
   "outputs": [],
   "source": [
    "y = pd.DataFrame(y.loc[\"BasicEPS\",:]).iloc[2:,:]"
   ]
  },
  {
   "cell_type": "code",
   "execution_count": 29,
   "id": "f94db9c1",
   "metadata": {},
   "outputs": [],
   "source": [
    "y.index = pd.to_datetime(y.index)"
   ]
  },
  {
   "cell_type": "code",
   "execution_count": 30,
   "id": "0cf724f7",
   "metadata": {},
   "outputs": [],
   "source": [
    "# Assumptions Null ARE\n",
    "y = y.fillna(0.).sort_index()"
   ]
  },
  {
   "cell_type": "markdown",
   "id": "73c7abb8",
   "metadata": {},
   "source": [
    "# 2.) Normalize all the X data"
   ]
  },
  {
   "cell_type": "code",
   "execution_count": 32,
   "id": "1911ec42",
   "metadata": {},
   "outputs": [
    {
     "name": "stdout",
     "output_type": "stream",
     "text": [
      "Collecting pytrends\n",
      "  Downloading pytrends-4.9.2-py3-none-any.whl (15 kB)\n",
      "Requirement already satisfied: requests>=2.0 in /Users/richard/anaconda3/lib/python3.11/site-packages (from pytrends) (2.31.0)\n",
      "Requirement already satisfied: pandas>=0.25 in /Users/richard/anaconda3/lib/python3.11/site-packages (from pytrends) (1.5.3)\n",
      "Requirement already satisfied: lxml in /Users/richard/anaconda3/lib/python3.11/site-packages (from pytrends) (4.9.2)\n",
      "Requirement already satisfied: python-dateutil>=2.8.1 in /Users/richard/anaconda3/lib/python3.11/site-packages (from pandas>=0.25->pytrends) (2.8.2)\n",
      "Requirement already satisfied: pytz>=2020.1 in /Users/richard/anaconda3/lib/python3.11/site-packages (from pandas>=0.25->pytrends) (2022.7)\n",
      "Requirement already satisfied: numpy>=1.21.0 in /Users/richard/anaconda3/lib/python3.11/site-packages (from pandas>=0.25->pytrends) (1.24.3)\n",
      "Requirement already satisfied: charset-normalizer<4,>=2 in /Users/richard/anaconda3/lib/python3.11/site-packages (from requests>=2.0->pytrends) (2.0.4)\n",
      "Requirement already satisfied: idna<4,>=2.5 in /Users/richard/anaconda3/lib/python3.11/site-packages (from requests>=2.0->pytrends) (3.4)\n",
      "Requirement already satisfied: urllib3<3,>=1.21.1 in /Users/richard/anaconda3/lib/python3.11/site-packages (from requests>=2.0->pytrends) (1.26.16)\n",
      "Requirement already satisfied: certifi>=2017.4.17 in /Users/richard/anaconda3/lib/python3.11/site-packages (from requests>=2.0->pytrends) (2023.7.22)\n",
      "Requirement already satisfied: six>=1.5 in /Users/richard/anaconda3/lib/python3.11/site-packages (from python-dateutil>=2.8.1->pandas>=0.25->pytrends) (1.16.0)\n",
      "Installing collected packages: pytrends\n",
      "Successfully installed pytrends-4.9.2\n",
      "Note: you may need to restart the kernel to use updated packages.\n"
     ]
    }
   ],
   "source": [
    "pip install pytrends"
   ]
  },
  {
   "cell_type": "code",
   "execution_count": 33,
   "id": "ac0dc7de",
   "metadata": {},
   "outputs": [],
   "source": [
    "from pytrends.request import TrendReq"
   ]
  },
  {
   "cell_type": "code",
   "execution_count": 34,
   "id": "36446546",
   "metadata": {},
   "outputs": [],
   "source": [
    "# Create pytrends object\n",
    "pytrends = TrendReq(hl='en-US', tz=360)\n",
    "\n",
    "# Set up the keywords and the timeframe\n",
    "keywords = [\"Phone\", \"Apple Layoffs\",\"MacBook\",\"iPad\",\"Apple CEO\",\"Apple Share Price\",\n",
    "            \"Recession\",\"Chip Costs\",\"Taylor Swift Tickets\",\"Is the Earth Flat\",\"Hospital\"]  # Add your keywords here\n",
    "start_date = '2004-01-01'\n",
    "end_date = '2024-01-01'\n",
    "\n",
    "# Create an empty DataFrame to store the results\n",
    "df = pd.DataFrame()\n",
    "\n",
    "# Iterate through keywords and fetch data\n",
    "for keyword in keywords:\n",
    "    pytrends.build_payload([keyword], cat=0, timeframe=f'{start_date} {end_date}', geo='', gprop='')\n",
    "    interest_over_time_df = pytrends.interest_over_time()\n",
    "    df[keyword] = interest_over_time_df[keyword]"
   ]
  },
  {
   "cell_type": "code",
   "execution_count": 35,
   "id": "77671d95",
   "metadata": {},
   "outputs": [],
   "source": [
    "X = df.resample(\"Q\").mean()\n",
    "temp = pd.concat([y,X],axis=1).dropna()\n",
    "y = temp[[\"BasicEPS\"]].copy()\n",
    "X = temp.iloc[:,1:].copy()"
   ]
  },
  {
   "cell_type": "code",
   "execution_count": 36,
   "id": "69aee727",
   "metadata": {},
   "outputs": [],
   "source": [
    "from sklearn.preprocessing import StandardScaler\n",
    "scaler = StandardScaler()\n",
    "X_scaled = scaler.fit_transform(X)"
   ]
  },
  {
   "cell_type": "markdown",
   "id": "da43d5ef",
   "metadata": {},
   "source": [
    "# 4.) Run a Lasso with lambda of .5. Plot a bar chart."
   ]
  },
  {
   "cell_type": "code",
   "execution_count": 37,
   "id": "b7ff06aa",
   "metadata": {},
   "outputs": [],
   "source": [
    "from sklearn.linear_model import Lasso\n",
    "lasso = Lasso(alpha = .1)\n",
    "lasso.fit(X_scaled,y)\n",
    "coefficients = lasso.coef_"
   ]
  },
  {
   "cell_type": "code",
   "execution_count": 38,
   "id": "f7311bec",
   "metadata": {},
   "outputs": [
    {
     "data": {
      "image/png": "[encoded data removed]",
      "text/plain": [
       "<Figure size 1800x500 with 1 Axes>"
      ]
     },
     "metadata": {},
     "output_type": "display_data"
    }
   ],
   "source": [
    "plt.figure(figsize = (18,5))\n",
    "plt.bar(range(len(coefficients)),coefficients,tick_label=X.columns)\n",
    "plt.axhline(0.,color = \"red\")\n",
    "plt.show()"
   ]
  },
  {
   "cell_type": "markdown",
   "id": "e130a2be",
   "metadata": {},
   "source": [
    "# 5.) Do these coefficient magnitudes make sense?"
   ]
  },
  {
   "cell_type": "markdown",
   "id": "e7744a42",
   "metadata": {},
   "source": [
    "Yes, it make sense. The threee coefficients are the main factors that influence the price of Apple stock."
   ]
  }
 ],
 "metadata": {
  "kernelspec": {
   "display_name": "Python 3 (ipykernel)",
   "language": "python",
   "name": "python3"
  },
  "language_info": {
   "codemirror_mode": {
    "name": "ipython",
    "version": 3
   },
   "file_extension": ".py",
   "mimetype": "text/x-python",
   "name": "python",
   "nbconvert_exporter": "python",
   "pygments_lexer": "ipython3",
   "version": "3.11.5"
  }
 },
 "nbformat": 4,
 "nbformat_minor": 5
}
